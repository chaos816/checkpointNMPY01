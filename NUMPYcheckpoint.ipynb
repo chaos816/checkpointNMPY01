{
 "cells": [
  {
   "cell_type": "code",
   "execution_count": 6,
   "id": "b844b80c-a82d-48a3-a49b-71381a9e8899",
   "metadata": {},
   "outputs": [
    {
     "name": "stdout",
     "output_type": "stream",
     "text": [
      "[1 2]\n"
     ]
    }
   ],
   "source": [
    "import numpy as np\n",
    "array = np.array([1, 2])\n",
    "array.tolist()\n",
    "print(array)"
   ]
  },
  {
   "cell_type": "code",
   "execution_count": 12,
   "id": "980ec45d-20d2-465a-933c-c674ff79a39c",
   "metadata": {},
   "outputs": [
    {
     "name": "stdout",
     "output_type": "stream",
     "text": [
      "Numpy is:\n",
      "[[1 2 3]\n",
      " [4 5 6]\n",
      " [7 8 9]]\n",
      "Trace is:\n",
      "15\n"
     ]
    }
   ],
   "source": [
    "import numpy as np\n",
    "  \n",
    "n_array = np.array([[1, 2, 3],\n",
    "                    [4, 5, 6],\n",
    "                    [7, 8, 9]])\n",
    "\n",
    "print(\"Numpy is:\")\n",
    "print(n_array)\n",
    "  \n",
    "trace = np.trace(n_array)\n",
    "  \n",
    "  \n",
    "print(\"Trace is:\")\n",
    "print(trace)"
   ]
  },
  {
   "cell_type": "code",
   "execution_count": 14,
   "id": "3294c872-7d37-4176-bc72-d348c7c60e7e",
   "metadata": {},
   "outputs": [
    {
     "name": "stdout",
     "output_type": "stream",
     "text": [
      "6 is higher than 2\n",
      "3 is higher than 2\n",
      "5 is higher than 2\n",
      "7 is higher than 2\n"
     ]
    }
   ],
   "source": [
    "a= np.array([[1,2,6],[3,5,7]])\n",
    "x=2\n",
    "for i in range(a.shape[0]):\n",
    "    for j in range(a.shape[1]):\n",
    "        if a[i][j] > x:\n",
    "            print(a[i][j] ,\"is higher than\", x)"
   ]
  },
  {
   "cell_type": "code",
   "execution_count": 15,
   "id": "92fb53ed-9c3d-4b07-8671-43f212be2d24",
   "metadata": {},
   "outputs": [
    {
     "data": {
      "text/plain": [
       "array([[ 8, 10, 12],\n",
       "       [ 5,  7,  9],\n",
       "       [11, 13, 15]])"
      ]
     },
     "execution_count": 15,
     "metadata": {},
     "output_type": "execute_result"
    }
   ],
   "source": [
    "my_array1= np.array([[1,2,3],[4,5,6],[7,8,9]])\n",
    "my_array2= np.array([[7,8,9],[1,2,3],[4,5,6]])\n",
    "s=my_array1+my_array2\n",
    "s"
   ]
  },
  {
   "cell_type": "code",
   "execution_count": 17,
   "id": "402fee23-3d37-46f1-87a7-32abe95734be",
   "metadata": {},
   "outputs": [
    {
     "data": {
      "text/plain": [
       "array([2.        , 0.66666667, 1.66666667])"
      ]
     },
     "execution_count": 17,
     "metadata": {},
     "output_type": "execute_result"
    }
   ],
   "source": [
    "tab=np.array([[1,2,3],[0,1,1],[1,2,2]])\n",
    "m=np.mean(tab,axis=1)\n",
    "m          "
   ]
  },
  {
   "cell_type": "code",
   "execution_count": null,
   "id": "9ed6ddaa-2ee4-40df-b445-bab45215f8eb",
   "metadata": {},
   "outputs": [],
   "source": []
  }
 ],
 "metadata": {
  "kernelspec": {
   "display_name": "Python 3 (ipykernel)",
   "language": "python",
   "name": "python3"
  },
  "language_info": {
   "codemirror_mode": {
    "name": "ipython",
    "version": 3
   },
   "file_extension": ".py",
   "mimetype": "text/x-python",
   "name": "python",
   "nbconvert_exporter": "python",
   "pygments_lexer": "ipython3",
   "version": "3.9.7"
  }
 },
 "nbformat": 4,
 "nbformat_minor": 5
}
